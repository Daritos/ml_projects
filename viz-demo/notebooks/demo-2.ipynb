{
 "cells": [
  {
   "cell_type": "markdown",
   "metadata": {},
   "source": [
    "### Reading PDFs"
   ]
  },
  {
   "cell_type": "code",
   "execution_count": null,
   "metadata": {},
   "outputs": [],
   "source": [
    "#import the PyPDF2 module\n",
    "import PyPDF2\n",
    "\n",
    "#open the PDF file\n",
    "PDFfile = open('./../data/Sample.pdf.', 'rb')\n",
    "\n",
    "PDFfilereader = PyPDF2.PdfFileReader(PDFfile)\n",
    "\n",
    "#print the number of pages\n",
    "print(PDFfilereader.numPages)\n",
    "\n",
    "#provide the page number\n",
    "pages = PDFfilereader.getPage(85)\n",
    "\n",
    "#extracting the text in PDF file\n",
    "print(pages.extractText())\n",
    "\n",
    "#close the PDF file\n",
    "PDFfile.close()"
   ]
  },
  {
   "cell_type": "markdown",
   "metadata": {},
   "source": [
    "Reading tables in PDF files"
   ]
  },
  {
   "cell_type": "code",
   "execution_count": 2,
   "metadata": {},
   "outputs": [
    {
     "name": "stderr",
     "output_type": "stream",
     "text": [
      "UserWarning: page-1 is image-based, camelot only works on text-based pages. [lattice.py:392]\n"
     ]
    },
    {
     "data": {
      "text/plain": [
       "<TableList n=0>"
      ]
     },
     "execution_count": 2,
     "metadata": {},
     "output_type": "execute_result"
    }
   ],
   "source": [
    "import camelot\n",
    "tables = camelot.read_pdf('./../data/table_sample.pdf')\n",
    "tables\n"
   ]
  },
  {
   "cell_type": "markdown",
   "metadata": {},
   "source": [
    "Extracting images from PDF files"
   ]
  },
  {
   "cell_type": "code",
   "execution_count": null,
   "metadata": {},
   "outputs": [],
   "source": [
    "#import the library\n",
    "import fitz\n",
    "\n",
    "file = './../data/image_sample.pdf'\n",
    "\n",
    "#open the fitz file\n",
    "pdf = fitz.open(file)\n",
    "\n",
    "#select the page number\n",
    "image_list = pdf.getPageImageList(0)\n",
    "\n",
    "#applying the loop\n",
    "for image in image_list:\n",
    "   xref = image[0]\n",
    "   pix = fitz.Pixmap(pdf, xref)\n",
    "   if pix.n < 5:\n",
    "       pix.writePNG(f'{xref}.png')\n",
    "   else:\n",
    "       pix1 = fitz.open(fitz.csRGB, pix)\n",
    "       pix1.writePNG(f'{xref}.png')\n",
    "       pix1 = None\n",
    "   pix = None\n",
    "\n",
    "#print the images\n",
    "print(len(image_list), 'detected')"
   ]
  }
 ],
 "metadata": {
  "interpreter": {
   "hash": "18af8097bf81493eb9a94092d4d878040115451b0200b7a5d41206c985b08397"
  },
  "kernelspec": {
   "display_name": "Python 3.10.2 64-bit ('venv': venv)",
   "language": "python",
   "name": "python3"
  },
  "language_info": {
   "codemirror_mode": {
    "name": "ipython",
    "version": 3
   },
   "file_extension": ".py",
   "mimetype": "text/x-python",
   "name": "python",
   "nbconvert_exporter": "python",
   "pygments_lexer": "ipython3",
   "version": "3.10.2"
  },
  "orig_nbformat": 4
 },
 "nbformat": 4,
 "nbformat_minor": 2
}
